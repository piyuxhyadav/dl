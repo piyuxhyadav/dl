{
 "cells": [
  {
   "cell_type": "markdown",
   "id": "d07a1445-aff7-4f00-a4f9-9a64e1564011",
   "metadata": {},
   "source": [
    "2: Implementing Feedforward neural networks with Keras and TensorFlow\n",
    "<br>\n",
    "a. Import the necessary packages\n",
    "<br>\n",
    "b. Load the training and testing data (MNIST/CIFAR10)\n",
    "<br>\n",
    "c. Define the network architecture using Keras\n",
    "<br>\n",
    "d. Train the model using SGD\n",
    "<br>\n",
    "e. Evaluate the network\n",
    "<br>\n",
    "f. Plot the training loss and accuracy\n",
    "<br>\n",
    "\n",
    "**datasets: MNIST, CIFER10**"
   ]
  },
  {
   "cell_type": "markdown",
   "id": "6c47a44a-a1e4-4f66-bca2-7e1f03a55c88",
   "metadata": {},
   "source": [
    "#### a. Import the necessary packages"
   ]
  },
  {
   "cell_type": "code",
   "execution_count": 40,
   "id": "4ab03543",
   "metadata": {},
   "outputs": [],
   "source": [
    "import scipy"
   ]
  },
  {
   "cell_type": "code",
   "execution_count": 41,
   "id": "e605bd17-9d23-4339-8535-e812a59d28a8",
   "metadata": {},
   "outputs": [],
   "source": [
    "import tensorflow as tf\n",
    "from tensorflow import keras\n",
    "from tensorflow.keras.preprocessing.image import ImageDataGenerator\n",
    "import matplotlib.pyplot as plt\n",
    "import numpy as np"
   ]
  },
  {
   "cell_type": "markdown",
   "id": "1d4a2b62-715d-45ae-9c17-31a8b4255212",
   "metadata": {},
   "source": [
    "#### b. Load the training and testing data (MNIST/CIFAR10)\n",
    "\n",
    "#### Note: Decrease batch size and remove some layers if epoch takes to much time to run"
   ]
  },
  {
   "cell_type": "code",
   "execution_count": 42,
   "id": "33f9dc3c-657f-4657-9eb8-c902f2adf658",
   "metadata": {
    "scrolled": true
   },
   "outputs": [
    {
     "name": "stdout",
     "output_type": "stream",
     "text": [
      "Found 60000 images belonging to 10 classes.\n",
      "Found 10000 images belonging to 10 classes.\n"
     ]
    },
    {
     "data": {
      "text/plain": [
       "(array([[[[0.        ],\n",
       "          [0.        ],\n",
       "          [0.        ],\n",
       "          ...,\n",
       "          [0.        ],\n",
       "          [0.        ],\n",
       "          [0.        ]],\n",
       " \n",
       "         [[0.        ],\n",
       "          [0.        ],\n",
       "          [0.        ],\n",
       "          ...,\n",
       "          [0.        ],\n",
       "          [0.        ],\n",
       "          [0.        ]],\n",
       " \n",
       "         [[0.        ],\n",
       "          [0.        ],\n",
       "          [0.        ],\n",
       "          ...,\n",
       "          [0.        ],\n",
       "          [0.        ],\n",
       "          [0.        ]],\n",
       " \n",
       "         ...,\n",
       " \n",
       "         [[0.        ],\n",
       "          [0.        ],\n",
       "          [0.        ],\n",
       "          ...,\n",
       "          [0.        ],\n",
       "          [0.        ],\n",
       "          [0.        ]],\n",
       " \n",
       "         [[0.        ],\n",
       "          [0.        ],\n",
       "          [0.        ],\n",
       "          ...,\n",
       "          [0.        ],\n",
       "          [0.        ],\n",
       "          [0.        ]],\n",
       " \n",
       "         [[0.        ],\n",
       "          [0.        ],\n",
       "          [0.        ],\n",
       "          ...,\n",
       "          [0.        ],\n",
       "          [0.        ],\n",
       "          [0.        ]]],\n",
       " \n",
       " \n",
       "        [[[0.        ],\n",
       "          [0.        ],\n",
       "          [0.        ],\n",
       "          ...,\n",
       "          [0.        ],\n",
       "          [0.        ],\n",
       "          [0.        ]],\n",
       " \n",
       "         [[0.        ],\n",
       "          [0.        ],\n",
       "          [0.        ],\n",
       "          ...,\n",
       "          [0.        ],\n",
       "          [0.        ],\n",
       "          [0.        ]],\n",
       " \n",
       "         [[0.        ],\n",
       "          [0.        ],\n",
       "          [0.        ],\n",
       "          ...,\n",
       "          [0.        ],\n",
       "          [0.        ],\n",
       "          [0.        ]],\n",
       " \n",
       "         ...,\n",
       " \n",
       "         [[0.        ],\n",
       "          [0.        ],\n",
       "          [0.        ],\n",
       "          ...,\n",
       "          [0.        ],\n",
       "          [0.        ],\n",
       "          [0.        ]],\n",
       " \n",
       "         [[0.        ],\n",
       "          [0.        ],\n",
       "          [0.        ],\n",
       "          ...,\n",
       "          [0.        ],\n",
       "          [0.        ],\n",
       "          [0.        ]],\n",
       " \n",
       "         [[0.        ],\n",
       "          [0.        ],\n",
       "          [0.        ],\n",
       "          ...,\n",
       "          [0.        ],\n",
       "          [0.        ],\n",
       "          [0.        ]]],\n",
       " \n",
       " \n",
       "        [[[0.        ],\n",
       "          [0.        ],\n",
       "          [0.00392157],\n",
       "          ...,\n",
       "          [0.        ],\n",
       "          [0.        ],\n",
       "          [0.        ]],\n",
       " \n",
       "         [[0.00392157],\n",
       "          [0.00392157],\n",
       "          [0.00392157],\n",
       "          ...,\n",
       "          [0.        ],\n",
       "          [0.        ],\n",
       "          [0.        ]],\n",
       " \n",
       "         [[0.01176471],\n",
       "          [0.00392157],\n",
       "          [0.        ],\n",
       "          ...,\n",
       "          [0.        ],\n",
       "          [0.        ],\n",
       "          [0.        ]],\n",
       " \n",
       "         ...,\n",
       " \n",
       "         [[0.        ],\n",
       "          [0.        ],\n",
       "          [0.        ],\n",
       "          ...,\n",
       "          [0.        ],\n",
       "          [0.        ],\n",
       "          [0.        ]],\n",
       " \n",
       "         [[0.        ],\n",
       "          [0.        ],\n",
       "          [0.        ],\n",
       "          ...,\n",
       "          [0.        ],\n",
       "          [0.        ],\n",
       "          [0.        ]],\n",
       " \n",
       "         [[0.        ],\n",
       "          [0.        ],\n",
       "          [0.        ],\n",
       "          ...,\n",
       "          [0.        ],\n",
       "          [0.        ],\n",
       "          [0.        ]]],\n",
       " \n",
       " \n",
       "        ...,\n",
       " \n",
       " \n",
       "        [[[0.        ],\n",
       "          [0.        ],\n",
       "          [0.        ],\n",
       "          ...,\n",
       "          [0.        ],\n",
       "          [0.        ],\n",
       "          [0.        ]],\n",
       " \n",
       "         [[0.        ],\n",
       "          [0.        ],\n",
       "          [0.        ],\n",
       "          ...,\n",
       "          [0.        ],\n",
       "          [0.        ],\n",
       "          [0.        ]],\n",
       " \n",
       "         [[0.        ],\n",
       "          [0.        ],\n",
       "          [0.        ],\n",
       "          ...,\n",
       "          [0.        ],\n",
       "          [0.        ],\n",
       "          [0.        ]],\n",
       " \n",
       "         ...,\n",
       " \n",
       "         [[0.        ],\n",
       "          [0.        ],\n",
       "          [0.        ],\n",
       "          ...,\n",
       "          [0.        ],\n",
       "          [0.        ],\n",
       "          [0.        ]],\n",
       " \n",
       "         [[0.        ],\n",
       "          [0.        ],\n",
       "          [0.        ],\n",
       "          ...,\n",
       "          [0.        ],\n",
       "          [0.        ],\n",
       "          [0.        ]],\n",
       " \n",
       "         [[0.        ],\n",
       "          [0.        ],\n",
       "          [0.        ],\n",
       "          ...,\n",
       "          [0.        ],\n",
       "          [0.        ],\n",
       "          [0.        ]]],\n",
       " \n",
       " \n",
       "        [[[0.        ],\n",
       "          [0.        ],\n",
       "          [0.        ],\n",
       "          ...,\n",
       "          [0.        ],\n",
       "          [0.        ],\n",
       "          [0.        ]],\n",
       " \n",
       "         [[0.        ],\n",
       "          [0.        ],\n",
       "          [0.        ],\n",
       "          ...,\n",
       "          [0.        ],\n",
       "          [0.        ],\n",
       "          [0.        ]],\n",
       " \n",
       "         [[0.        ],\n",
       "          [0.        ],\n",
       "          [0.        ],\n",
       "          ...,\n",
       "          [0.        ],\n",
       "          [0.        ],\n",
       "          [0.        ]],\n",
       " \n",
       "         ...,\n",
       " \n",
       "         [[0.        ],\n",
       "          [0.        ],\n",
       "          [0.        ],\n",
       "          ...,\n",
       "          [0.        ],\n",
       "          [0.        ],\n",
       "          [0.        ]],\n",
       " \n",
       "         [[0.        ],\n",
       "          [0.        ],\n",
       "          [0.        ],\n",
       "          ...,\n",
       "          [0.        ],\n",
       "          [0.        ],\n",
       "          [0.        ]],\n",
       " \n",
       "         [[0.        ],\n",
       "          [0.        ],\n",
       "          [0.        ],\n",
       "          ...,\n",
       "          [0.        ],\n",
       "          [0.        ],\n",
       "          [0.        ]]],\n",
       " \n",
       " \n",
       "        [[[0.        ],\n",
       "          [0.        ],\n",
       "          [0.        ],\n",
       "          ...,\n",
       "          [0.        ],\n",
       "          [0.        ],\n",
       "          [0.        ]],\n",
       " \n",
       "         [[0.        ],\n",
       "          [0.        ],\n",
       "          [0.        ],\n",
       "          ...,\n",
       "          [0.        ],\n",
       "          [0.        ],\n",
       "          [0.        ]],\n",
       " \n",
       "         [[0.        ],\n",
       "          [0.        ],\n",
       "          [0.        ],\n",
       "          ...,\n",
       "          [0.        ],\n",
       "          [0.        ],\n",
       "          [0.        ]],\n",
       " \n",
       "         ...,\n",
       " \n",
       "         [[0.        ],\n",
       "          [0.        ],\n",
       "          [0.        ],\n",
       "          ...,\n",
       "          [0.        ],\n",
       "          [0.        ],\n",
       "          [0.        ]],\n",
       " \n",
       "         [[0.        ],\n",
       "          [0.        ],\n",
       "          [0.        ],\n",
       "          ...,\n",
       "          [0.        ],\n",
       "          [0.        ],\n",
       "          [0.        ]],\n",
       " \n",
       "         [[0.        ],\n",
       "          [0.        ],\n",
       "          [0.        ],\n",
       "          ...,\n",
       "          [0.        ],\n",
       "          [0.        ],\n",
       "          [0.        ]]]], dtype=float32),\n",
       " array([[0., 1., 0., ..., 0., 0., 0.],\n",
       "        [0., 0., 1., ..., 0., 0., 0.],\n",
       "        [0., 0., 0., ..., 0., 0., 0.],\n",
       "        ...,\n",
       "        [0., 0., 0., ..., 0., 1., 0.],\n",
       "        [1., 0., 0., ..., 0., 0., 0.],\n",
       "        [0., 0., 0., ..., 0., 0., 0.]], dtype=float32))"
      ]
     },
     "execution_count": 42,
     "metadata": {},
     "output_type": "execute_result"
    }
   ],
   "source": [
    "train_data_dir = 'Datasets/mnist-jpg/train'\n",
    "test_data_dir = 'Datasets/mnist-jpg/test'\n",
    "\n",
    "# Image data generator for training data\n",
    "train_datagen = ImageDataGenerator(\n",
    "rescale=1.0/255\n",
    ")\n",
    "\n",
    "# Image data generator for testing data\n",
    "test_datagen = ImageDataGenerator(\n",
    "rescale=1.0/255\n",
    ")\n",
    "\n",
    "# Create data generators\n",
    "train_batch_size = 10000\n",
    "train_generator = train_datagen.flow_from_directory(\n",
    "    train_data_dir,\n",
    "    target_size=(28, 28),  # Resize images to 28x28\n",
    "    batch_size=train_batch_size,\n",
    "    class_mode='categorical', \n",
    "     color_mode='grayscale',# Use 'categorical' for one-hot encoded labels\n",
    "    shuffle=True,\n",
    ")\n",
    "\n",
    "# Load test data without labels (class_mode=None)\n",
    "test_batch_size = 2000\n",
    "test_generator = test_datagen.flow_from_directory(\n",
    "    test_data_dir,\n",
    "    target_size=(28, 28),  # Resize images to 28x28\n",
    "    batch_size=test_batch_size,\n",
    "    class_mode='categorical',  # Use 'categorical' for one-hot encoded labels\n",
    "      color_mode='grayscale',\n",
    "    shuffle=True,\n",
    ")\n",
    "\n",
    "train_generator[0]"
   ]
  },
  {
   "cell_type": "markdown",
   "id": "911c258a",
   "metadata": {},
   "source": [
    "#### Selecting first batch containing 10000 images "
   ]
  },
  {
   "cell_type": "code",
   "execution_count": 43,
   "id": "3a6a9a5e-03b8-418b-9910-c9ce7362f0d6",
   "metadata": {},
   "outputs": [],
   "source": [
    "x_train, y_train = train_generator[0]\n",
    "x_test, y_test = test_generator[0]"
   ]
  },
  {
   "cell_type": "markdown",
   "id": "f0f60930-ed5e-418c-a74b-dc2c76746c27",
   "metadata": {},
   "source": [
    "#### c. Define the network architecture using Keras"
   ]
  },
  {
   "cell_type": "code",
   "execution_count": 45,
   "id": "404bc5fb-9f7d-4b60-a63a-f2bbe7361856",
   "metadata": {},
   "outputs": [],
   "source": [
    "model = keras.Sequential([\n",
    "    keras.layers.Flatten(input_shape=(28, 28, 1)),\n",
    "    keras.layers.Dense(128, activation=\"relu\"),\n",
    "    keras.layers.Dense(10, activation=\"softmax\")\n",
    "])"
   ]
  },
  {
   "cell_type": "markdown",
   "id": "a119f840-b982-432f-adbb-aa6542f99dda",
   "metadata": {},
   "source": [
    "#### d. Train the model using SGD"
   ]
  },
  {
   "cell_type": "code",
   "execution_count": 47,
   "id": "f4018ef3-8034-429f-a55f-e7e0729cc033",
   "metadata": {},
   "outputs": [
    {
     "name": "stdout",
     "output_type": "stream",
     "text": [
      "Epoch 1/30\n",
      "313/313 [==============================] - 0s 1ms/step - loss: 0.2628 - accuracy: 0.9286 - val_loss: 0.2795 - val_accuracy: 0.9205\n",
      "Epoch 2/30\n",
      "313/313 [==============================] - 0s 833us/step - loss: 0.2562 - accuracy: 0.9281 - val_loss: 0.2795 - val_accuracy: 0.9225\n",
      "Epoch 3/30\n",
      "313/313 [==============================] - 0s 814us/step - loss: 0.2507 - accuracy: 0.9293 - val_loss: 0.2727 - val_accuracy: 0.9200\n",
      "Epoch 4/30\n",
      "313/313 [==============================] - 0s 856us/step - loss: 0.2448 - accuracy: 0.9322 - val_loss: 0.2699 - val_accuracy: 0.9205\n",
      "Epoch 5/30\n",
      "313/313 [==============================] - 0s 875us/step - loss: 0.2396 - accuracy: 0.9352 - val_loss: 0.2667 - val_accuracy: 0.9225\n",
      "Epoch 6/30\n",
      "313/313 [==============================] - 0s 861us/step - loss: 0.2346 - accuracy: 0.9355 - val_loss: 0.2636 - val_accuracy: 0.9260\n",
      "Epoch 7/30\n",
      "313/313 [==============================] - 0s 845us/step - loss: 0.2297 - accuracy: 0.9375 - val_loss: 0.2592 - val_accuracy: 0.9240\n",
      "Epoch 8/30\n",
      "313/313 [==============================] - 0s 877us/step - loss: 0.2248 - accuracy: 0.9386 - val_loss: 0.2557 - val_accuracy: 0.9265\n",
      "Epoch 9/30\n",
      "313/313 [==============================] - 0s 890us/step - loss: 0.2199 - accuracy: 0.9407 - val_loss: 0.2546 - val_accuracy: 0.9255\n",
      "Epoch 10/30\n",
      "313/313 [==============================] - 0s 1ms/step - loss: 0.2158 - accuracy: 0.9415 - val_loss: 0.2505 - val_accuracy: 0.9265\n",
      "Epoch 11/30\n",
      "313/313 [==============================] - 0s 1ms/step - loss: 0.2115 - accuracy: 0.9431 - val_loss: 0.2485 - val_accuracy: 0.9270\n",
      "Epoch 12/30\n",
      "313/313 [==============================] - 0s 930us/step - loss: 0.2073 - accuracy: 0.9434 - val_loss: 0.2464 - val_accuracy: 0.9280\n",
      "Epoch 13/30\n",
      "313/313 [==============================] - 0s 921us/step - loss: 0.2030 - accuracy: 0.9451 - val_loss: 0.2427 - val_accuracy: 0.9305\n",
      "Epoch 14/30\n",
      "313/313 [==============================] - 0s 901us/step - loss: 0.1992 - accuracy: 0.9460 - val_loss: 0.2407 - val_accuracy: 0.9280\n",
      "Epoch 15/30\n",
      "313/313 [==============================] - 0s 868us/step - loss: 0.1958 - accuracy: 0.9481 - val_loss: 0.2379 - val_accuracy: 0.9305\n",
      "Epoch 16/30\n",
      "313/313 [==============================] - 0s 879us/step - loss: 0.1921 - accuracy: 0.9485 - val_loss: 0.2377 - val_accuracy: 0.9290\n",
      "Epoch 17/30\n",
      "313/313 [==============================] - 0s 890us/step - loss: 0.1885 - accuracy: 0.9491 - val_loss: 0.2328 - val_accuracy: 0.9325\n",
      "Epoch 18/30\n",
      "313/313 [==============================] - 0s 881us/step - loss: 0.1849 - accuracy: 0.9507 - val_loss: 0.2316 - val_accuracy: 0.9335\n",
      "Epoch 19/30\n",
      "313/313 [==============================] - 0s 867us/step - loss: 0.1815 - accuracy: 0.9519 - val_loss: 0.2299 - val_accuracy: 0.9310\n",
      "Epoch 20/30\n",
      "313/313 [==============================] - 0s 876us/step - loss: 0.1785 - accuracy: 0.9520 - val_loss: 0.2284 - val_accuracy: 0.9330\n",
      "Epoch 21/30\n",
      "313/313 [==============================] - 0s 915us/step - loss: 0.1757 - accuracy: 0.9530 - val_loss: 0.2256 - val_accuracy: 0.9335\n",
      "Epoch 22/30\n",
      "313/313 [==============================] - 0s 817us/step - loss: 0.1723 - accuracy: 0.9540 - val_loss: 0.2235 - val_accuracy: 0.9345\n",
      "Epoch 23/30\n",
      "313/313 [==============================] - 0s 836us/step - loss: 0.1694 - accuracy: 0.9544 - val_loss: 0.2232 - val_accuracy: 0.9345\n",
      "Epoch 24/30\n",
      "313/313 [==============================] - 0s 851us/step - loss: 0.1665 - accuracy: 0.9556 - val_loss: 0.2201 - val_accuracy: 0.9350\n",
      "Epoch 25/30\n",
      "313/313 [==============================] - 0s 874us/step - loss: 0.1637 - accuracy: 0.9557 - val_loss: 0.2185 - val_accuracy: 0.9375\n",
      "Epoch 26/30\n",
      "313/313 [==============================] - 0s 875us/step - loss: 0.1605 - accuracy: 0.9579 - val_loss: 0.2181 - val_accuracy: 0.9345\n",
      "Epoch 27/30\n",
      "313/313 [==============================] - 0s 851us/step - loss: 0.1582 - accuracy: 0.9591 - val_loss: 0.2151 - val_accuracy: 0.9355\n",
      "Epoch 28/30\n",
      "313/313 [==============================] - 0s 832us/step - loss: 0.1555 - accuracy: 0.9595 - val_loss: 0.2137 - val_accuracy: 0.9375\n",
      "Epoch 29/30\n",
      "313/313 [==============================] - 0s 825us/step - loss: 0.1528 - accuracy: 0.9592 - val_loss: 0.2109 - val_accuracy: 0.9375\n",
      "Epoch 30/30\n",
      "313/313 [==============================] - 0s 828us/step - loss: 0.1502 - accuracy: 0.9611 - val_loss: 0.2100 - val_accuracy: 0.9375\n"
     ]
    }
   ],
   "source": [
    "model.compile(optimizer='sgd', loss='categorical_crossentropy', metrics=['accuracy'])\n",
    "history = model.fit(x_train, y_train, epochs=30, validation_data=(x_test, y_test))"
   ]
  },
  {
   "cell_type": "markdown",
   "id": "2a3b97f8-64f4-48c4-8d16-c4e39356b10f",
   "metadata": {},
   "source": [
    "#### e. Evaluate the network"
   ]
  },
  {
   "cell_type": "code",
   "execution_count": 48,
   "id": "7be3239c-f2f8-4bfc-8b66-9507c2b50d36",
   "metadata": {},
   "outputs": [
    {
     "name": "stdout",
     "output_type": "stream",
     "text": [
      "63/63 [==============================] - 0s 1ms/step - loss: 0.2100 - accuracy: 0.9375\n",
      "Loss:  0.210037499666214\n",
      "Accuracy:  0.9375\n"
     ]
    }
   ],
   "source": [
    "test_loss, test_acc = model.evaluate(x_test, y_test)\n",
    "print(\"Loss: \", test_loss)\n",
    "print(\"Accuracy: \", test_acc)"
   ]
  },
  {
   "cell_type": "code",
   "execution_count": 49,
   "id": "dd1ff28c-0f5e-44ab-85fb-6767a525ed7e",
   "metadata": {},
   "outputs": [
    {
     "name": "stdout",
     "output_type": "stream",
     "text": [
      "63/63 [==============================] - 0s 464us/step\n",
      "Actual Number:  5\n",
      "Predicted Number:  5\n"
     ]
    },
    {
     "data": {
      "image/png": "[encoded data removed]",
      "text/plain": [
       "<Figure size 640x480 with 1 Axes>"
      ]
     },
     "metadata": {},
     "output_type": "display_data"
    }
   ],
   "source": [
    "n = 20 \n",
    "plt.imshow(x_test[n])\n",
    "predicted_value = model.predict(x_test)\n",
    "print(\"Actual Number: \",np.argmax(y_test[n]))\n",
    "print(\"Predicted Number: \", np.argmax(predicted_value[n]))"
   ]
  },
  {
   "cell_type": "markdown",
   "id": "fe8f7d7e-7a14-415a-92cd-e27fe16c180f",
   "metadata": {},
   "source": [
    "#### f. Plot the training loss and accuracy"
   ]
  },
  {
   "cell_type": "code",
   "execution_count": 36,
   "id": "bf4ab994-5a7a-459e-a000-d8bbdb3371aa",
   "metadata": {},
   "outputs": [
    {
     "data": {
      "text/plain": [
       "dict_keys(['loss', 'accuracy', 'val_loss', 'val_accuracy'])"
      ]
     },
     "execution_count": 36,
     "metadata": {},
     "output_type": "execute_result"
    }
   ],
   "source": [
    "history = history.history\n",
    "history.keys()"
   ]
  },
  {
   "cell_type": "code",
   "execution_count": 37,
   "id": "1f725ebe-48ae-4a38-841c-f9c9745f7638",
   "metadata": {},
   "outputs": [
    {
     "data": {
      "text/plain": [
       "<matplotlib.legend.Legend at 0x28e413f70>"
      ]
     },
     "execution_count": 37,
     "metadata": {},
     "output_type": "execute_result"
    },
    {
     "data": {
      "image/png": "[encoded data removed]",
      "text/plain": [
       "<Figure size 640x480 with 1 Axes>"
      ]
     },
     "metadata": {},
     "output_type": "display_data"
    }
   ],
   "source": [
    "plt.plot(history['accuracy'])\n",
    "plt.plot(history['val_accuracy'])\n",
    "plt.title(\"Model Accuracy\")\n",
    "plt.ylabel('accuracy')\n",
    "plt.xlabel('epoch')\n",
    "plt.legend(['Train', \"Validation\"], loc='upper left')"
   ]
  },
  {
   "cell_type": "code",
   "execution_count": 50,
   "id": "78d58ce7-5087-4a04-89f0-e25f3c7f39e3",
   "metadata": {},
   "outputs": [
    {
     "ename": "TypeError",
     "evalue": "'History' object is not subscriptable",
     "output_type": "error",
     "traceback": [
      "\u001b[0;31m---------------------------------------------------------------------------\u001b[0m",
      "\u001b[0;31mTypeError\u001b[0m                                 Traceback (most recent call last)",
      "\u001b[1;32m/Users/piyushyadav/Downloads/SPPU-BE-IT-DL-LP-IV-main/DL_assign_2_mnist_img_offline.ipynb Cell 19\u001b[0m line \u001b[0;36m1\n\u001b[0;32m----> <a href='vscode-notebook-cell:/Users/piyushyadav/Downloads/SPPU-BE-IT-DL-LP-IV-main/DL_assign_2_mnist_img_offline.ipynb#X24sZmlsZQ%3D%3D?line=0'>1</a>\u001b[0m plt\u001b[39m.\u001b[39mplot(history[\u001b[39m'\u001b[39;49m\u001b[39mloss\u001b[39;49m\u001b[39m'\u001b[39;49m])\n\u001b[1;32m      <a href='vscode-notebook-cell:/Users/piyushyadav/Downloads/SPPU-BE-IT-DL-LP-IV-main/DL_assign_2_mnist_img_offline.ipynb#X24sZmlsZQ%3D%3D?line=1'>2</a>\u001b[0m plt\u001b[39m.\u001b[39mplot(history[\u001b[39m'\u001b[39m\u001b[39mval_loss\u001b[39m\u001b[39m'\u001b[39m])\n\u001b[1;32m      <a href='vscode-notebook-cell:/Users/piyushyadav/Downloads/SPPU-BE-IT-DL-LP-IV-main/DL_assign_2_mnist_img_offline.ipynb#X24sZmlsZQ%3D%3D?line=2'>3</a>\u001b[0m plt\u001b[39m.\u001b[39mtitle(\u001b[39m'\u001b[39m\u001b[39mmodel loss\u001b[39m\u001b[39m'\u001b[39m)\n",
      "\u001b[0;31mTypeError\u001b[0m: 'History' object is not subscriptable"
     ]
    }
   ],
   "source": [
    "plt.plot(history['loss'])\n",
    "plt.plot(history['val_loss'])\n",
    "plt.title('model loss')\n",
    "plt.ylabel('loss')\n",
    "plt.xlabel('epoch')\n",
    "plt.legend(['Train', 'Validation'], loc='upper left')"
   ]
  },
  {
   "cell_type": "code",
   "execution_count": 39,
   "id": "8cf42e9d-f598-4568-82f5-414c77e2bf95",
   "metadata": {},
   "outputs": [
    {
     "data": {
      "text/plain": [
       "<matplotlib.legend.Legend at 0x28f7b1c40>"
      ]
     },
     "execution_count": 39,
     "metadata": {},
     "output_type": "execute_result"
    },
    {
     "data": {
      "image/png": "[encoded data removed]",
      "text/plain": [
       "<Figure size 640x480 with 1 Axes>"
      ]
     },
     "metadata": {},
     "output_type": "display_data"
    }
   ],
   "source": [
    "plt.plot(history['accuracy'])\n",
    "plt.plot(history['val_accuracy'])\n",
    "plt.plot(history['loss'])\n",
    "plt.plot(history['val_loss'])\n",
    "plt.title('Training Loss and accuracy')\n",
    "plt.ylabel('accuracy/Loss')\n",
    "plt.xlabel('epoch')\n",
    "plt.legend(['accuracy', 'val_accuracy','loss','val_loss'])"
   ]
  }
 ],
 "metadata": {
  "kernelspec": {
   "display_name": "Python 3 (ipykernel)",
   "language": "python",
   "name": "python3"
  },
  "language_info": {
   "codemirror_mode": {
    "name": "ipython",
    "version": 3
   },
   "file_extension": ".py",
   "mimetype": "text/x-python",
   "name": "python",
   "nbconvert_exporter": "python",
   "pygments_lexer": "ipython3",
   "version": "3.9.6"
  }
 },
 "nbformat": 4,
 "nbformat_minor": 5
}
